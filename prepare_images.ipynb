{
 "cells": [
  {
   "cell_type": "markdown",
   "metadata": {},
   "source": [
    "# Picture Preparation\n",
    "\n",
    "- Reduce image file size \n",
    "- maxsize 512,512,\n",
    "- dpi 300, 300"
   ]
  },
  {
   "cell_type": "code",
   "execution_count": 1,
   "metadata": {},
   "outputs": [],
   "source": [
    "from PIL import Image\n",
    "import pathlib"
   ]
  },
  {
   "cell_type": "code",
   "execution_count": 16,
   "metadata": {},
   "outputs": [],
   "source": [
    "# When new images are created they are stored in a new directory.\n",
    "# Collate list of file ids for images we already have.\n",
    "\n",
    "images_already_got = []\n",
    "\n",
    "for directory in ['resized','resized_2']:\n",
    "    for input_image_path in pathlib.Path('{}/.'.format(directory)).iterdir():\n",
    "        image = str(input_image_path).replace('{}\\\\','')\n",
    "        images_already_got.append(image)\n",
    "        \n",
    "print('Currently {} images'.format(len(images_already_got)))        "
   ]
  },
  {
   "cell_type": "code",
   "execution_count": null,
   "metadata": {},
   "outputs": [],
   "source": [
    "# Limit the dots per inch for each image. \n",
    "# Limit the size to the maxsize\n",
    "\n",
    "maxsize = (512, 512)\n",
    "for input_image_path in pathlib.Path('.').iterdir():\n",
    "\n",
    "    # check it's a jpg image\n",
    "    if 'jpg' in str(input_image_path):\n",
    "        image = str(input_image_path).replace('.MP','')\n",
    "\n",
    "        if image not in images_already_got:\n",
    "            output_path = 'resized_3/' + image\n",
    "            with Image.open(input_image_path) as im:\n",
    "                im.thumbnail(maxsize)\n",
    "                im.save(output_path, \"JPEG\", dpi=(300,300))\n",
    "                print('processing {}'.format(output_path))\n",
    "            "
   ]
  }
 ],
 "metadata": {
  "kernelspec": {
   "display_name": "Python 3",
   "language": "python",
   "name": "python3"
  },
  "language_info": {
   "codemirror_mode": {
    "name": "ipython",
    "version": 3
   },
   "file_extension": ".py",
   "mimetype": "text/x-python",
   "name": "python",
   "nbconvert_exporter": "python",
   "pygments_lexer": "ipython3",
   "version": "3.6.8"
  }
 },
 "nbformat": 4,
 "nbformat_minor": 2
}
